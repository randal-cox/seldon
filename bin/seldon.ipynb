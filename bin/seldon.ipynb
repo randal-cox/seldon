{
 "cells": [
  {
   "cell_type": "code",
   "execution_count": 1,
   "id": "d05dee3f-3c49-4495-a81a-2e77f20d061d",
   "metadata": {},
   "outputs": [
    {
     "name": "stdout",
     "output_type": "stream",
     "text": [
      "Requirement already satisfied: findspark in /opt/conda/lib/python3.10/site-packages (2.0.1)\n"
     ]
    }
   ],
   "source": [
    "# import sys\n",
    "# !conda install --yes --prefix {sys.prefix} findspark\n",
    "import sys\n",
    "!{sys.executable} -m pip install findspark"
   ]
  },
  {
   "cell_type": "code",
   "execution_count": null,
   "id": "060ba004-22b2-4140-93d6-8238c425a598",
   "metadata": {},
   "outputs": [],
   "source": [
    "import pyspark\n",
    "sc = pyspark.SparkContext('local[*]')\n",
    "rdd = sc.parallelize(range(1000))\n",
    "rd.show()\n"
   ]
  },
  {
   "cell_type": "code",
   "execution_count": null,
   "id": "0a49845d-4d8b-4f35-b697-0546f9dbd5ca",
   "metadata": {},
   "outputs": [],
   "source": [
    "# take care of libraries\n",
    "import sys, os\n",
    "libs = os.path.join(os.path.dirname(os.path.abspath('')), 'lib')\n",
    "sys.path.append(libs)\n",
    "\n",
    "import core.logging\n",
    "import core.spark\n",
    "\n",
    "logger = core.logging.logger()\n",
    "spark = core.spark.spark()\n",
    "\n",
    "with logger.timer(\"creating a data frame\"):\n",
    "    rows = [\n",
    "        (\"Finance\",10), \n",
    "        (\"Marketing\",20), \n",
    "        (\"Sales\",30), \n",
    "        (\"IT\",40) \n",
    "    ]\n",
    "    columns = [\"dept_name\",\"dept_id\"]\n",
    "    df = spark.createDataFrame(data=rows, schema = columns)\n",
    "    logger.df(df)"
   ]
  },
  {
   "cell_type": "code",
   "execution_count": null,
   "id": "d052c9d6-3b2a-4329-b5ce-6a03f42d3308",
   "metadata": {},
   "outputs": [],
   "source": []
  },
  {
   "cell_type": "code",
   "execution_count": null,
   "id": "44407c25-5ead-46ac-9ef2-bb56c141fc88",
   "metadata": {},
   "outputs": [],
   "source": []
  }
 ],
 "metadata": {
  "kernelspec": {
   "display_name": "Python 3 (ipykernel)",
   "language": "python",
   "name": "python3"
  },
  "language_info": {
   "codemirror_mode": {
    "name": "ipython",
    "version": 3
   },
   "file_extension": ".py",
   "mimetype": "text/x-python",
   "name": "python",
   "nbconvert_exporter": "python",
   "pygments_lexer": "ipython3",
   "version": "3.10.6"
  }
 },
 "nbformat": 4,
 "nbformat_minor": 5
}